{
 "cells": [
  {
   "cell_type": "markdown",
   "metadata": {},
   "source": [
    "## Sentiment Analysis from Facebook."
   ]
  },
  {
   "cell_type": "markdown",
   "metadata": {},
   "source": [
    "Official Cuban Media posted in Facebook a sort of poll about the acceptance of a TV space from a Cuban journalist. \n",
    "\n",
    "Although people should evaluate the journalist's TV space rating it from 1 (negative) to 10 (positive), opinions and reviews observed in the comments had a qualitative nature rather than a value from 1 to 10 that would have made our work easier.\n",
    "\n",
    "Comments were then extracted using GRAPH API through FacePager Software (all content is public and according to Facebook privacy rules).\n",
    "\n",
    "Data was pre-processed in Excel. We added a 'review' column that classifies comments in 'negative' or 'positive'.\n",
    "\n",
    "We observed there was a frequency of keywords that were present in negative comments and not so frequent in positive ones. The other way around occured the same, people who wrote positive reviews about the journalist used keywords that were hard to find in negative reviews.\n",
    "\n",
    "We use the the following formula in Excel to classify comments in negative or positive: =IF(SUM(COUNTIF(B2,{\"*keyword_1*\",\"*keyword_2*\"...})),\"neg\",\"pos\"). Keywords were added until there was no significant changes in the proportion bewtween negatives and positives reviews.\n",
    "\n",
    "We would like to apply ML algorithms to check if the criteria follwed to classify those Facebook comments was accurate and predict the nature of future comments.\n",
    "\n",
    "Since it is a Cuban poll, extracted comments are in Spanish language. So the exemples we will use to test our predictions will be in Spanish as well. Of course we will translate the exemples for our readers have proof of the accuracy of the algorithm."
   ]
  },
  {
   "cell_type": "code",
   "execution_count": 1,
   "metadata": {},
   "outputs": [],
   "source": [
    "import pandas as pd\n",
    "import numpy as np\n",
    "import matplotlib.pyplot as plt\n",
    "import seaborn as sns; sns.set()\n",
    "import warnings\n",
    "warnings.filterwarnings('ignore')"
   ]
  },
  {
   "cell_type": "code",
   "execution_count": 2,
   "metadata": {},
   "outputs": [],
   "source": [
    "df = pd.read_csv('comments.csv', encoding='latin-1')"
   ]
  },
  {
   "cell_type": "code",
   "execution_count": 3,
   "metadata": {},
   "outputs": [
    {
     "data": {
      "text/html": [
       "<div>\n",
       "<style scoped>\n",
       "    .dataframe tbody tr th:only-of-type {\n",
       "        vertical-align: middle;\n",
       "    }\n",
       "\n",
       "    .dataframe tbody tr th {\n",
       "        vertical-align: top;\n",
       "    }\n",
       "\n",
       "    .dataframe thead th {\n",
       "        text-align: right;\n",
       "    }\n",
       "</style>\n",
       "<table border=\"1\" class=\"dataframe\">\n",
       "  <thead>\n",
       "    <tr style=\"text-align: right;\">\n",
       "      <th></th>\n",
       "      <th>Date_created</th>\n",
       "      <th>Comment</th>\n",
       "      <th>review</th>\n",
       "    </tr>\n",
       "  </thead>\n",
       "  <tbody>\n",
       "    <tr>\n",
       "      <th>0</th>\n",
       "      <td>2021-03-09 20:45</td>\n",
       "      <td>Cero000000. .periodista pésimo y títere de car...</td>\n",
       "      <td>neg</td>\n",
       "    </tr>\n",
       "    <tr>\n",
       "      <th>1</th>\n",
       "      <td>2021-03-09 20:45</td>\n",
       "      <td>Diez.</td>\n",
       "      <td>pos</td>\n",
       "    </tr>\n",
       "    <tr>\n",
       "      <th>2</th>\n",
       "      <td>2021-03-09 20:46</td>\n",
       "      <td>Diez</td>\n",
       "      <td>pos</td>\n",
       "    </tr>\n",
       "    <tr>\n",
       "      <th>3</th>\n",
       "      <td>2021-03-09 20:46</td>\n",
       "      <td>Cero</td>\n",
       "      <td>neg</td>\n",
       "    </tr>\n",
       "    <tr>\n",
       "      <th>4</th>\n",
       "      <td>2021-03-09 20:47</td>\n",
       "      <td>Diez</td>\n",
       "      <td>pos</td>\n",
       "    </tr>\n",
       "    <tr>\n",
       "      <th>5</th>\n",
       "      <td>2021-03-09 20:48</td>\n",
       "      <td>Debe tener sus modificaciones pero es necesaria.</td>\n",
       "      <td>pos</td>\n",
       "    </tr>\n",
       "    <tr>\n",
       "      <th>6</th>\n",
       "      <td>2021-03-09 20:48</td>\n",
       "      <td>Diez</td>\n",
       "      <td>pos</td>\n",
       "    </tr>\n",
       "    <tr>\n",
       "      <th>7</th>\n",
       "      <td>2021-03-09 20:50</td>\n",
       "      <td>Pésima</td>\n",
       "      <td>neg</td>\n",
       "    </tr>\n",
       "    <tr>\n",
       "      <th>8</th>\n",
       "      <td>2021-03-09 20:50</td>\n",
       "      <td>Se pude dar cero En serio ???????</td>\n",
       "      <td>neg</td>\n",
       "    </tr>\n",
       "    <tr>\n",
       "      <th>9</th>\n",
       "      <td>2021-03-09 20:50</td>\n",
       "      <td>Cero</td>\n",
       "      <td>neg</td>\n",
       "    </tr>\n",
       "    <tr>\n",
       "      <th>10</th>\n",
       "      <td>2021-03-09 20:51</td>\n",
       "      <td>cero 0</td>\n",
       "      <td>neg</td>\n",
       "    </tr>\n",
       "    <tr>\n",
       "      <th>11</th>\n",
       "      <td>2021-03-09 20:51</td>\n",
       "      <td>Es un desastre. Pura manipulación y veneno. Es...</td>\n",
       "      <td>neg</td>\n",
       "    </tr>\n",
       "    <tr>\n",
       "      <th>12</th>\n",
       "      <td>2021-03-09 20:51</td>\n",
       "      <td>Diez</td>\n",
       "      <td>pos</td>\n",
       "    </tr>\n",
       "    <tr>\n",
       "      <th>13</th>\n",
       "      <td>2021-03-09 20:51</td>\n",
       "      <td>No me gusta para nada</td>\n",
       "      <td>neg</td>\n",
       "    </tr>\n",
       "    <tr>\n",
       "      <th>14</th>\n",
       "      <td>2021-03-09 20:52</td>\n",
       "      <td>Buena</td>\n",
       "      <td>pos</td>\n",
       "    </tr>\n",
       "    <tr>\n",
       "      <th>15</th>\n",
       "      <td>2021-03-09 20:52</td>\n",
       "      <td>Diez</td>\n",
       "      <td>pos</td>\n",
       "    </tr>\n",
       "    <tr>\n",
       "      <th>16</th>\n",
       "      <td>2021-03-09 20:53</td>\n",
       "      <td>Muy buena y necesaria para ubicar a algunos y ...</td>\n",
       "      <td>pos</td>\n",
       "    </tr>\n",
       "    <tr>\n",
       "      <th>17</th>\n",
       "      <td>2021-03-09 20:55</td>\n",
       "      <td>Diez puntos  Excelente  Coj.....</td>\n",
       "      <td>pos</td>\n",
       "    </tr>\n",
       "    <tr>\n",
       "      <th>18</th>\n",
       "      <td>2021-03-09 20:55</td>\n",
       "      <td>Diez. Necesaria e instructiva, y tan esclarece...</td>\n",
       "      <td>pos</td>\n",
       "    </tr>\n",
       "    <tr>\n",
       "      <th>19</th>\n",
       "      <td>2021-03-09 20:57</td>\n",
       "      <td>En serio Pésima, supuestamente nosotros no le ...</td>\n",
       "      <td>neg</td>\n",
       "    </tr>\n",
       "  </tbody>\n",
       "</table>\n",
       "</div>"
      ],
      "text/plain": [
       "        Date_created                                            Comment review\n",
       "0   2021-03-09 20:45  Cero000000. .periodista pésimo y títere de car...    neg\n",
       "1   2021-03-09 20:45                                              Diez.    pos\n",
       "2   2021-03-09 20:46                                               Diez    pos\n",
       "3   2021-03-09 20:46                                               Cero    neg\n",
       "4   2021-03-09 20:47                                               Diez    pos\n",
       "5   2021-03-09 20:48   Debe tener sus modificaciones pero es necesaria.    pos\n",
       "6   2021-03-09 20:48                                               Diez    pos\n",
       "7   2021-03-09 20:50                                             Pésima    neg\n",
       "8   2021-03-09 20:50                  Se pude dar cero En serio ???????    neg\n",
       "9   2021-03-09 20:50                                               Cero    neg\n",
       "10  2021-03-09 20:51                                             cero 0    neg\n",
       "11  2021-03-09 20:51  Es un desastre. Pura manipulación y veneno. Es...    neg\n",
       "12  2021-03-09 20:51                                               Diez    pos\n",
       "13  2021-03-09 20:51                              No me gusta para nada    neg\n",
       "14  2021-03-09 20:52                                              Buena    pos\n",
       "15  2021-03-09 20:52                                               Diez    pos\n",
       "16  2021-03-09 20:53  Muy buena y necesaria para ubicar a algunos y ...    pos\n",
       "17  2021-03-09 20:55                  Diez puntos  Excelente  Coj.....     pos\n",
       "18  2021-03-09 20:55  Diez. Necesaria e instructiva, y tan esclarece...    pos\n",
       "19  2021-03-09 20:57  En serio Pésima, supuestamente nosotros no le ...    neg"
      ]
     },
     "execution_count": 3,
     "metadata": {},
     "output_type": "execute_result"
    }
   ],
   "source": [
    "df.head(20)"
   ]
  },
  {
   "cell_type": "code",
   "execution_count": 4,
   "metadata": {},
   "outputs": [
    {
     "data": {
      "text/plain": [
       "(6773, 3)"
      ]
     },
     "execution_count": 4,
     "metadata": {},
     "output_type": "execute_result"
    }
   ],
   "source": [
    "df.shape"
   ]
  },
  {
   "cell_type": "code",
   "execution_count": 5,
   "metadata": {},
   "outputs": [
    {
     "data": {
      "text/plain": [
       "Date_created     0\n",
       "Comment         51\n",
       "review           0\n",
       "dtype: int64"
      ]
     },
     "execution_count": 5,
     "metadata": {},
     "output_type": "execute_result"
    }
   ],
   "source": [
    "df.isnull().sum()"
   ]
  },
  {
   "cell_type": "code",
   "execution_count": 6,
   "metadata": {},
   "outputs": [],
   "source": [
    "df.dropna(inplace=True)"
   ]
  },
  {
   "cell_type": "code",
   "execution_count": 7,
   "metadata": {},
   "outputs": [
    {
     "name": "stdout",
     "output_type": "stream",
     "text": [
      "Negative vs Positive Reviews\n"
     ]
    },
    {
     "data": {
      "text/plain": [
       "neg    3483\n",
       "pos    3239\n",
       "Name: review, dtype: int64"
      ]
     },
     "execution_count": 7,
     "metadata": {},
     "output_type": "execute_result"
    }
   ],
   "source": [
    "print('Negative vs Positive Reviews')\n",
    "df['review'].value_counts()"
   ]
  },
  {
   "cell_type": "markdown",
   "metadata": {},
   "source": [
    "Let's visualize this proportion in a seaborn plot."
   ]
  },
  {
   "cell_type": "code",
   "execution_count": 8,
   "metadata": {},
   "outputs": [
    {
     "data": {
      "image/png": "[encoded data removed]",
      "text/plain": [
       "<Figure size 432x288 with 1 Axes>"
      ]
     },
     "metadata": {},
     "output_type": "display_data"
    }
   ],
   "source": [
    "sns.countplot(x='review', data=df, palette=dict(pos=\"#315fa8\", neg=\"#bd7013\"))\n",
    "plt.title('Negative vs Positive Reviews from 3/09 to 3/12',\n",
    "         fontsize=14);"
   ]
  },
  {
   "cell_type": "markdown",
   "metadata": {},
   "source": [
    "Let's explore the proportion of negative and positive comments by day."
   ]
  },
  {
   "cell_type": "code",
   "execution_count": 9,
   "metadata": {},
   "outputs": [
    {
     "data": {
      "text/html": [
       "<div>\n",
       "<style scoped>\n",
       "    .dataframe tbody tr th:only-of-type {\n",
       "        vertical-align: middle;\n",
       "    }\n",
       "\n",
       "    .dataframe tbody tr th {\n",
       "        vertical-align: top;\n",
       "    }\n",
       "\n",
       "    .dataframe thead th {\n",
       "        text-align: right;\n",
       "    }\n",
       "</style>\n",
       "<table border=\"1\" class=\"dataframe\">\n",
       "  <thead>\n",
       "    <tr style=\"text-align: right;\">\n",
       "      <th></th>\n",
       "      <th>Date_created</th>\n",
       "      <th>Comment</th>\n",
       "      <th>review</th>\n",
       "    </tr>\n",
       "  </thead>\n",
       "  <tbody>\n",
       "    <tr>\n",
       "      <th>0</th>\n",
       "      <td>2021-03-09 20:45:00</td>\n",
       "      <td>Cero000000. .periodista pésimo y títere de car...</td>\n",
       "      <td>neg</td>\n",
       "    </tr>\n",
       "    <tr>\n",
       "      <th>1</th>\n",
       "      <td>2021-03-09 20:45:00</td>\n",
       "      <td>Diez.</td>\n",
       "      <td>pos</td>\n",
       "    </tr>\n",
       "    <tr>\n",
       "      <th>2</th>\n",
       "      <td>2021-03-09 20:46:00</td>\n",
       "      <td>Diez</td>\n",
       "      <td>pos</td>\n",
       "    </tr>\n",
       "    <tr>\n",
       "      <th>3</th>\n",
       "      <td>2021-03-09 20:46:00</td>\n",
       "      <td>Cero</td>\n",
       "      <td>neg</td>\n",
       "    </tr>\n",
       "    <tr>\n",
       "      <th>4</th>\n",
       "      <td>2021-03-09 20:47:00</td>\n",
       "      <td>Diez</td>\n",
       "      <td>pos</td>\n",
       "    </tr>\n",
       "  </tbody>\n",
       "</table>\n",
       "</div>"
      ],
      "text/plain": [
       "         Date_created                                            Comment  \\\n",
       "0 2021-03-09 20:45:00  Cero000000. .periodista pésimo y títere de car...   \n",
       "1 2021-03-09 20:45:00                                              Diez.   \n",
       "2 2021-03-09 20:46:00                                               Diez   \n",
       "3 2021-03-09 20:46:00                                               Cero   \n",
       "4 2021-03-09 20:47:00                                               Diez   \n",
       "\n",
       "  review  \n",
       "0    neg  \n",
       "1    pos  \n",
       "2    pos  \n",
       "3    neg  \n",
       "4    pos  "
      ]
     },
     "execution_count": 9,
     "metadata": {},
     "output_type": "execute_result"
    }
   ],
   "source": [
    "df1 = df.copy()\n",
    "df1['Date_created'] = pd.to_datetime(df['Date_created'])\n",
    "df1.head()"
   ]
  },
  {
   "cell_type": "code",
   "execution_count": 10,
   "metadata": {},
   "outputs": [
    {
     "data": {
      "text/plain": [
       "0        9\n",
       "1        9\n",
       "2        9\n",
       "3        9\n",
       "4        9\n",
       "        ..\n",
       "6768    12\n",
       "6769    12\n",
       "6770    12\n",
       "6771    12\n",
       "6772    12\n",
       "Name: Date_created, Length: 6722, dtype: int64"
      ]
     },
     "execution_count": 10,
     "metadata": {},
     "output_type": "execute_result"
    }
   ],
   "source": [
    "day = df1['Date_created'].dt.day\n",
    "day"
   ]
  },
  {
   "cell_type": "code",
   "execution_count": 11,
   "metadata": {},
   "outputs": [
    {
     "data": {
      "text/html": [
       "<div>\n",
       "<style scoped>\n",
       "    .dataframe tbody tr th:only-of-type {\n",
       "        vertical-align: middle;\n",
       "    }\n",
       "\n",
       "    .dataframe tbody tr th {\n",
       "        vertical-align: top;\n",
       "    }\n",
       "\n",
       "    .dataframe thead th {\n",
       "        text-align: right;\n",
       "    }\n",
       "</style>\n",
       "<table border=\"1\" class=\"dataframe\">\n",
       "  <thead>\n",
       "    <tr style=\"text-align: right;\">\n",
       "      <th></th>\n",
       "      <th>day</th>\n",
       "      <th>reviews</th>\n",
       "    </tr>\n",
       "  </thead>\n",
       "  <tbody>\n",
       "  </tbody>\n",
       "</table>\n",
       "</div>"
      ],
      "text/plain": [
       "Empty DataFrame\n",
       "Columns: [day, reviews]\n",
       "Index: []"
      ]
     },
     "execution_count": 11,
     "metadata": {},
     "output_type": "execute_result"
    }
   ],
   "source": [
    "reviews_by_day = pd.DataFrame(columns = ['day', 'reviews'])\n",
    "reviews_by_day"
   ]
  },
  {
   "cell_type": "code",
   "execution_count": 12,
   "metadata": {},
   "outputs": [],
   "source": [
    "reviews_by_day['day'] = np.array(day)\n",
    "reviews_by_day['reviews'] = df1['review']"
   ]
  },
  {
   "cell_type": "code",
   "execution_count": 13,
   "metadata": {},
   "outputs": [
    {
     "data": {
      "text/html": [
       "<div>\n",
       "<style scoped>\n",
       "    .dataframe tbody tr th:only-of-type {\n",
       "        vertical-align: middle;\n",
       "    }\n",
       "\n",
       "    .dataframe tbody tr th {\n",
       "        vertical-align: top;\n",
       "    }\n",
       "\n",
       "    .dataframe thead th {\n",
       "        text-align: right;\n",
       "    }\n",
       "</style>\n",
       "<table border=\"1\" class=\"dataframe\">\n",
       "  <thead>\n",
       "    <tr style=\"text-align: right;\">\n",
       "      <th></th>\n",
       "      <th>day</th>\n",
       "      <th>reviews</th>\n",
       "    </tr>\n",
       "  </thead>\n",
       "  <tbody>\n",
       "    <tr>\n",
       "      <th>0</th>\n",
       "      <td>9</td>\n",
       "      <td>neg</td>\n",
       "    </tr>\n",
       "    <tr>\n",
       "      <th>1</th>\n",
       "      <td>9</td>\n",
       "      <td>pos</td>\n",
       "    </tr>\n",
       "    <tr>\n",
       "      <th>2</th>\n",
       "      <td>9</td>\n",
       "      <td>pos</td>\n",
       "    </tr>\n",
       "    <tr>\n",
       "      <th>3</th>\n",
       "      <td>9</td>\n",
       "      <td>neg</td>\n",
       "    </tr>\n",
       "    <tr>\n",
       "      <th>4</th>\n",
       "      <td>9</td>\n",
       "      <td>pos</td>\n",
       "    </tr>\n",
       "  </tbody>\n",
       "</table>\n",
       "</div>"
      ],
      "text/plain": [
       "   day reviews\n",
       "0    9     neg\n",
       "1    9     pos\n",
       "2    9     pos\n",
       "3    9     neg\n",
       "4    9     pos"
      ]
     },
     "execution_count": 13,
     "metadata": {},
     "output_type": "execute_result"
    }
   ],
   "source": [
    "reviews_by_day.head()"
   ]
  },
  {
   "cell_type": "code",
   "execution_count": 14,
   "metadata": {},
   "outputs": [],
   "source": [
    "day_9 = reviews_by_day[reviews_by_day['day'] == 9]\n",
    "day_10 = reviews_by_day[reviews_by_day['day'] == 10]\n",
    "day_11 = reviews_by_day[reviews_by_day['day'] == 11]\n",
    "day_12 = reviews_by_day[reviews_by_day['day'] == 12]"
   ]
  },
  {
   "cell_type": "code",
   "execution_count": 15,
   "metadata": {},
   "outputs": [
    {
     "data": {
      "text/html": [
       "<div>\n",
       "<style scoped>\n",
       "    .dataframe tbody tr th:only-of-type {\n",
       "        vertical-align: middle;\n",
       "    }\n",
       "\n",
       "    .dataframe tbody tr th {\n",
       "        vertical-align: top;\n",
       "    }\n",
       "\n",
       "    .dataframe thead th {\n",
       "        text-align: right;\n",
       "    }\n",
       "</style>\n",
       "<table border=\"1\" class=\"dataframe\">\n",
       "  <thead>\n",
       "    <tr style=\"text-align: right;\">\n",
       "      <th></th>\n",
       "      <th>day</th>\n",
       "      <th>reviews</th>\n",
       "    </tr>\n",
       "  </thead>\n",
       "  <tbody>\n",
       "    <tr>\n",
       "      <th>0</th>\n",
       "      <td>9</td>\n",
       "      <td>neg</td>\n",
       "    </tr>\n",
       "    <tr>\n",
       "      <th>1</th>\n",
       "      <td>9</td>\n",
       "      <td>pos</td>\n",
       "    </tr>\n",
       "    <tr>\n",
       "      <th>2</th>\n",
       "      <td>9</td>\n",
       "      <td>pos</td>\n",
       "    </tr>\n",
       "    <tr>\n",
       "      <th>3</th>\n",
       "      <td>9</td>\n",
       "      <td>neg</td>\n",
       "    </tr>\n",
       "    <tr>\n",
       "      <th>4</th>\n",
       "      <td>9</td>\n",
       "      <td>pos</td>\n",
       "    </tr>\n",
       "  </tbody>\n",
       "</table>\n",
       "</div>"
      ],
      "text/plain": [
       "   day reviews\n",
       "0    9     neg\n",
       "1    9     pos\n",
       "2    9     pos\n",
       "3    9     neg\n",
       "4    9     pos"
      ]
     },
     "execution_count": 15,
     "metadata": {},
     "output_type": "execute_result"
    }
   ],
   "source": [
    "day_9.head()"
   ]
  },
  {
   "cell_type": "code",
   "execution_count": 16,
   "metadata": {},
   "outputs": [
    {
     "data": {
      "image/png": "[encoded data removed]",
      "text/plain": [
       "<Figure size 432x288 with 1 Axes>"
      ]
     },
     "metadata": {},
     "output_type": "display_data"
    }
   ],
   "source": [
    "sns.countplot(x='reviews', data=day_9, palette=dict(pos=\"#315fa8\", neg=\"#bd7013\"))\n",
    "plt.title('Reviews Count. Day 3/09', fontsize=14);"
   ]
  },
  {
   "cell_type": "code",
   "execution_count": 17,
   "metadata": {},
   "outputs": [
    {
     "data": {
      "image/png": "[encoded data removed]",
      "text/plain": [
       "<Figure size 432x288 with 1 Axes>"
      ]
     },
     "metadata": {},
     "output_type": "display_data"
    }
   ],
   "source": [
    "sns.countplot(x='reviews', data=day_10, palette=dict(pos=\"#315fa8\", neg=\"#bd7013\"))\n",
    "plt.title('Reviews Count. Day 3/10', fontsize=14);"
   ]
  },
  {
   "cell_type": "code",
   "execution_count": 18,
   "metadata": {},
   "outputs": [
    {
     "data": {
      "image/png": "[encoded data removed]",
      "text/plain": [
       "<Figure size 432x288 with 1 Axes>"
      ]
     },
     "metadata": {},
     "output_type": "display_data"
    }
   ],
   "source": [
    "sns.countplot(x='reviews', data=day_11, palette=dict(pos=\"#315fa8\", neg=\"#bd7013\"))\n",
    "plt.title('Reviews Count. Day 3/11', fontsize=14);"
   ]
  },
  {
   "cell_type": "code",
   "execution_count": 19,
   "metadata": {},
   "outputs": [
    {
     "data": {
      "image/png": "[encoded data removed]",
      "text/plain": [
       "<Figure size 432x288 with 1 Axes>"
      ]
     },
     "metadata": {},
     "output_type": "display_data"
    }
   ],
   "source": [
    "sns.countplot(x='reviews', data=day_12, palette=dict(pos=\"#315fa8\", neg=\"#bd7013\"))\n",
    "plt.title('Reviews Count. Day 3/12', fontsize=14);"
   ]
  },
  {
   "cell_type": "markdown",
   "metadata": {},
   "source": [
    "Although negative reviews are still majority (3483 vs 3239), positive reviews about the journalist's TV sections increased since 3/10."
   ]
  },
  {
   "cell_type": "markdown",
   "metadata": {},
   "source": [
    "Let's use then ML to check if our criteria to classify comments in positive or negative taking into account certain keywords was valid."
   ]
  },
  {
   "cell_type": "code",
   "execution_count": 20,
   "metadata": {},
   "outputs": [],
   "source": [
    "import preprocess_kgptalkie as ps # module installed from https://github.com/laxmimerit/preprocess_kgptalkie.git\n",
    "import re\n",
    "from sklearn.model_selection import train_test_split\n",
    "from sklearn.feature_extraction.text import TfidfVectorizer\n",
    "from sklearn.svm import LinearSVC\n",
    "from sklearn.metrics import confusion_matrix\n",
    "from sklearn.metrics import classification_report"
   ]
  },
  {
   "cell_type": "markdown",
   "metadata": {},
   "source": [
    "Let's use the module installed from the above mentioned github repo (whose author I highly recommend for those interested in ML), to clean our data (removing special caracters, urls, html tags etc. present in some comments)."
   ]
  },
  {
   "cell_type": "code",
   "execution_count": 21,
   "metadata": {},
   "outputs": [],
   "source": [
    "def get_clean(x):\n",
    "    x = str(x).lower().replace('\\\\', '').replace('_', ' ')\n",
    "    x = ps.cont_exp(x)\n",
    "    x = ps.remove_emails(x)\n",
    "    x = ps.remove_urls(x)\n",
    "    x = ps.remove_html_tags(x)\n",
    "    x = ps.remove_rt(x)\n",
    "    x = ps.remove_accented_chars(x)\n",
    "    x = ps.remove_special_chars(x)\n",
    "    x = re.sub(\"(.)\\\\1{2,}\", \"\\\\1\", x)\n",
    "    return x"
   ]
  },
  {
   "cell_type": "code",
   "execution_count": 22,
   "metadata": {},
   "outputs": [],
   "source": [
    "df['Comment'] = df['Comment'].apply(lambda x: get_clean(x))"
   ]
  },
  {
   "cell_type": "markdown",
   "metadata": {},
   "source": [
    "Let's check our comments after being cleaned."
   ]
  },
  {
   "cell_type": "code",
   "execution_count": 23,
   "metadata": {},
   "outputs": [
    {
     "data": {
      "text/html": [
       "<div>\n",
       "<style scoped>\n",
       "    .dataframe tbody tr th:only-of-type {\n",
       "        vertical-align: middle;\n",
       "    }\n",
       "\n",
       "    .dataframe tbody tr th {\n",
       "        vertical-align: top;\n",
       "    }\n",
       "\n",
       "    .dataframe thead th {\n",
       "        text-align: right;\n",
       "    }\n",
       "</style>\n",
       "<table border=\"1\" class=\"dataframe\">\n",
       "  <thead>\n",
       "    <tr style=\"text-align: right;\">\n",
       "      <th></th>\n",
       "      <th>Date_created</th>\n",
       "      <th>Comment</th>\n",
       "      <th>review</th>\n",
       "    </tr>\n",
       "  </thead>\n",
       "  <tbody>\n",
       "    <tr>\n",
       "      <th>0</th>\n",
       "      <td>2021-03-09 20:45</td>\n",
       "      <td>cero0 periodista pesimo y titere de carton tip...</td>\n",
       "      <td>neg</td>\n",
       "    </tr>\n",
       "    <tr>\n",
       "      <th>1</th>\n",
       "      <td>2021-03-09 20:45</td>\n",
       "      <td>diez</td>\n",
       "      <td>pos</td>\n",
       "    </tr>\n",
       "    <tr>\n",
       "      <th>2</th>\n",
       "      <td>2021-03-09 20:46</td>\n",
       "      <td>diez</td>\n",
       "      <td>pos</td>\n",
       "    </tr>\n",
       "    <tr>\n",
       "      <th>3</th>\n",
       "      <td>2021-03-09 20:46</td>\n",
       "      <td>cero</td>\n",
       "      <td>neg</td>\n",
       "    </tr>\n",
       "    <tr>\n",
       "      <th>4</th>\n",
       "      <td>2021-03-09 20:47</td>\n",
       "      <td>diez</td>\n",
       "      <td>pos</td>\n",
       "    </tr>\n",
       "    <tr>\n",
       "      <th>5</th>\n",
       "      <td>2021-03-09 20:48</td>\n",
       "      <td>debe tener sus modificaciones pero es necesaria</td>\n",
       "      <td>pos</td>\n",
       "    </tr>\n",
       "    <tr>\n",
       "      <th>6</th>\n",
       "      <td>2021-03-09 20:48</td>\n",
       "      <td>diez</td>\n",
       "      <td>pos</td>\n",
       "    </tr>\n",
       "    <tr>\n",
       "      <th>7</th>\n",
       "      <td>2021-03-09 20:50</td>\n",
       "      <td>pesima</td>\n",
       "      <td>neg</td>\n",
       "    </tr>\n",
       "    <tr>\n",
       "      <th>8</th>\n",
       "      <td>2021-03-09 20:50</td>\n",
       "      <td>se pude dar cero en serio</td>\n",
       "      <td>neg</td>\n",
       "    </tr>\n",
       "    <tr>\n",
       "      <th>9</th>\n",
       "      <td>2021-03-09 20:50</td>\n",
       "      <td>cero</td>\n",
       "      <td>neg</td>\n",
       "    </tr>\n",
       "    <tr>\n",
       "      <th>10</th>\n",
       "      <td>2021-03-09 20:51</td>\n",
       "      <td>cero 0</td>\n",
       "      <td>neg</td>\n",
       "    </tr>\n",
       "    <tr>\n",
       "      <th>11</th>\n",
       "      <td>2021-03-09 20:51</td>\n",
       "      <td>es un desastre pura manipulacion y veneno es a...</td>\n",
       "      <td>neg</td>\n",
       "    </tr>\n",
       "    <tr>\n",
       "      <th>12</th>\n",
       "      <td>2021-03-09 20:51</td>\n",
       "      <td>diez</td>\n",
       "      <td>pos</td>\n",
       "    </tr>\n",
       "    <tr>\n",
       "      <th>13</th>\n",
       "      <td>2021-03-09 20:51</td>\n",
       "      <td>no me gusta para nada</td>\n",
       "      <td>neg</td>\n",
       "    </tr>\n",
       "    <tr>\n",
       "      <th>14</th>\n",
       "      <td>2021-03-09 20:52</td>\n",
       "      <td>buena</td>\n",
       "      <td>pos</td>\n",
       "    </tr>\n",
       "    <tr>\n",
       "      <th>15</th>\n",
       "      <td>2021-03-09 20:52</td>\n",
       "      <td>diez</td>\n",
       "      <td>pos</td>\n",
       "    </tr>\n",
       "    <tr>\n",
       "      <th>16</th>\n",
       "      <td>2021-03-09 20:53</td>\n",
       "      <td>muy buena y necesaria para ubicar a algunos y ...</td>\n",
       "      <td>pos</td>\n",
       "    </tr>\n",
       "    <tr>\n",
       "      <th>17</th>\n",
       "      <td>2021-03-09 20:55</td>\n",
       "      <td>diez puntos excelente coj</td>\n",
       "      <td>pos</td>\n",
       "    </tr>\n",
       "    <tr>\n",
       "      <th>18</th>\n",
       "      <td>2021-03-09 20:55</td>\n",
       "      <td>diez necesaria e instructiva y tan esclarecedo...</td>\n",
       "      <td>pos</td>\n",
       "    </tr>\n",
       "    <tr>\n",
       "      <th>19</th>\n",
       "      <td>2021-03-09 20:57</td>\n",
       "      <td>en serio pesima supuestamente nosotros no le h...</td>\n",
       "      <td>neg</td>\n",
       "    </tr>\n",
       "  </tbody>\n",
       "</table>\n",
       "</div>"
      ],
      "text/plain": [
       "        Date_created                                            Comment review\n",
       "0   2021-03-09 20:45  cero0 periodista pesimo y titere de carton tip...    neg\n",
       "1   2021-03-09 20:45                                               diez    pos\n",
       "2   2021-03-09 20:46                                               diez    pos\n",
       "3   2021-03-09 20:46                                               cero    neg\n",
       "4   2021-03-09 20:47                                               diez    pos\n",
       "5   2021-03-09 20:48    debe tener sus modificaciones pero es necesaria    pos\n",
       "6   2021-03-09 20:48                                               diez    pos\n",
       "7   2021-03-09 20:50                                             pesima    neg\n",
       "8   2021-03-09 20:50                          se pude dar cero en serio    neg\n",
       "9   2021-03-09 20:50                                               cero    neg\n",
       "10  2021-03-09 20:51                                             cero 0    neg\n",
       "11  2021-03-09 20:51  es un desastre pura manipulacion y veneno es a...    neg\n",
       "12  2021-03-09 20:51                                               diez    pos\n",
       "13  2021-03-09 20:51                              no me gusta para nada    neg\n",
       "14  2021-03-09 20:52                                              buena    pos\n",
       "15  2021-03-09 20:52                                               diez    pos\n",
       "16  2021-03-09 20:53  muy buena y necesaria para ubicar a algunos y ...    pos\n",
       "17  2021-03-09 20:55                          diez puntos excelente coj    pos\n",
       "18  2021-03-09 20:55  diez necesaria e instructiva y tan esclarecedo...    pos\n",
       "19  2021-03-09 20:57  en serio pesima supuestamente nosotros no le h...    neg"
      ]
     },
     "execution_count": 23,
     "metadata": {},
     "output_type": "execute_result"
    }
   ],
   "source": [
    "df.head(20)"
   ]
  },
  {
   "cell_type": "code",
   "execution_count": 24,
   "metadata": {},
   "outputs": [],
   "source": [
    "tfidf = TfidfVectorizer(max_features=5000)\n",
    "X = df['Comment']\n",
    "y = df['review']\n",
    "\n",
    "X = tfidf.fit_transform(X)"
   ]
  },
  {
   "cell_type": "code",
   "execution_count": 25,
   "metadata": {},
   "outputs": [],
   "source": [
    "X_train, X_test, y_train, y_test = train_test_split(X, y, test_size=0.2, random_state=0)"
   ]
  },
  {
   "cell_type": "code",
   "execution_count": 26,
   "metadata": {},
   "outputs": [
    {
     "data": {
      "text/plain": [
       "LinearSVC()"
      ]
     },
     "execution_count": 26,
     "metadata": {},
     "output_type": "execute_result"
    }
   ],
   "source": [
    "clf = LinearSVC()\n",
    "clf.fit(X_train, y_train)"
   ]
  },
  {
   "cell_type": "code",
   "execution_count": 27,
   "metadata": {},
   "outputs": [],
   "source": [
    "y_pred = clf.predict(X_test)"
   ]
  },
  {
   "cell_type": "code",
   "execution_count": 28,
   "metadata": {},
   "outputs": [
    {
     "name": "stdout",
     "output_type": "stream",
     "text": [
      "89.0\n"
     ]
    }
   ],
   "source": [
    "accuracy = clf.score(X_test, y_test)\n",
    "print(round(accuracy, 2)*100)"
   ]
  },
  {
   "cell_type": "markdown",
   "metadata": {},
   "source": [
    "## Data Science experts agree that 80%-85% accuracy is a good score in Sentiment Analysis."
   ]
  },
  {
   "cell_type": "markdown",
   "metadata": {},
   "source": [
    "So maybe our \"specific keywords found in some comments\" criteria to classify those comments was a valid one."
   ]
  },
  {
   "cell_type": "code",
   "execution_count": 29,
   "metadata": {},
   "outputs": [
    {
     "name": "stdout",
     "output_type": "stream",
     "text": [
      "              precision    recall  f1-score   support\n",
      "\n",
      "         neg       0.92      0.86      0.89       728\n",
      "         pos       0.85      0.92      0.88       617\n",
      "\n",
      "    accuracy                           0.89      1345\n",
      "   macro avg       0.89      0.89      0.89      1345\n",
      "weighted avg       0.89      0.89      0.89      1345\n",
      "\n"
     ]
    }
   ],
   "source": [
    "print(classification_report(y_test, y_pred))"
   ]
  },
  {
   "cell_type": "markdown",
   "metadata": {},
   "source": [
    "Let's compare predicted with actual results."
   ]
  },
  {
   "cell_type": "code",
   "execution_count": 30,
   "metadata": {},
   "outputs": [
    {
     "name": "stdout",
     "output_type": "stream",
     "text": [
      "                 Predicted as Negative  Predicted as Positive  Total\n",
      "Actual Negative                    629                     99    728\n",
      "Actual Positive                     52                    565    617\n",
      "Total                              681                    664   1345\n"
     ]
    }
   ],
   "source": [
    "cm = pd.DataFrame(confusion_matrix(y_test, y_pred))\n",
    "\n",
    "cm['Total'] = np.sum(cm, axis=1)\n",
    "cm = cm.append(np.sum(cm, axis=0), ignore_index=True)\n",
    "\n",
    "cm.columns = ['Predicted as Negative', 'Predicted as Positive', 'Total']\n",
    "cm = cm.set_index([['Actual Negative', 'Actual Positive', 'Total']])\n",
    "\n",
    "print(cm)"
   ]
  },
  {
   "cell_type": "code",
   "execution_count": null,
   "metadata": {},
   "outputs": [],
   "source": []
  },
  {
   "cell_type": "markdown",
   "metadata": {},
   "source": [
    "## Predicting real exemples"
   ]
  },
  {
   "cell_type": "code",
   "execution_count": 31,
   "metadata": {},
   "outputs": [],
   "source": [
    "def comment_review():\n",
    "    # From 1 to 10 how do you evaluate HL's TV section?\n",
    "    coment = input('En escala del 1 al 10 cómo evalúas la sección del periodista HL?') # as posted in FB\n",
    "    coment = get_clean(coment)\n",
    "    vec = tfidf.transform([coment])\n",
    "    if clf.predict(vec)[0] == 'neg':\n",
    "        print('Review: Negative')\n",
    "    else:\n",
    "        print('Review: Positive')"
   ]
  },
  {
   "cell_type": "code",
   "execution_count": 34,
   "metadata": {},
   "outputs": [
    {
     "name": "stdin",
     "output_type": "stream",
     "text": [
      "En escala del 1 al 10 cómo evalúas la sección del periodista HL? Comment: No me gusta. Todo es mentira y manipulación.\n"
     ]
    },
    {
     "name": "stdout",
     "output_type": "stream",
     "text": [
      "Review: Negative\n"
     ]
    }
   ],
   "source": [
    "# From 1 to 10 how do you evaluate HL's TV section?\n",
    "# Our comment: I don't like it. It is all about lies and manipulation.\n",
    "\n",
    "comment_review() "
   ]
  },
  {
   "cell_type": "code",
   "execution_count": 33,
   "metadata": {},
   "outputs": [
    {
     "name": "stdin",
     "output_type": "stream",
     "text": [
      "En escala del 1 al 10 cómo evalúas la sección del periodista HL? Comment: Es muy profesional. Debería continuar.\n"
     ]
    },
    {
     "name": "stdout",
     "output_type": "stream",
     "text": [
      "Review: Positive\n"
     ]
    }
   ],
   "source": [
    "# From 1 to 10 how do you evaluate HL's TV section?\n",
    "# Our comment: He is very professional. His TV space should go on.\n",
    "\n",
    "comment_review() "
   ]
  },
  {
   "cell_type": "code",
   "execution_count": 35,
   "metadata": {},
   "outputs": [
    {
     "name": "stdin",
     "output_type": "stream",
     "text": [
      "En escala del 1 al 10 cómo evalúas la sección del periodista HL? Comment: Le daría diez puntos.\n"
     ]
    },
    {
     "name": "stdout",
     "output_type": "stream",
     "text": [
      "Review: Positive\n"
     ]
    }
   ],
   "source": [
    "# From 1 to 10 how do you evaluate HL's TV section?\n",
    "# Our comment: I would give him ten points.\n",
    "\n",
    "comment_review()"
   ]
  },
  {
   "cell_type": "code",
   "execution_count": 36,
   "metadata": {},
   "outputs": [
    {
     "name": "stdin",
     "output_type": "stream",
     "text": [
      "En escala del 1 al 10 cómo evalúas la sección del periodista HL? Comment: Le daría números negativos. Cero!!!\n"
     ]
    },
    {
     "name": "stdout",
     "output_type": "stream",
     "text": [
      "Review: Negative\n"
     ]
    }
   ],
   "source": [
    "# From 1 to 10 how do you evaluate HL's TV section?\n",
    "# Our comment: I would evaluate him with negative numbers. Under Zero!!!\n",
    "\n",
    "comment_review()"
   ]
  },
  {
   "cell_type": "markdown",
   "metadata": {},
   "source": [
    "## With those exemples we finished our Facebook Sentiment Analysis. Thanks for your reading."
   ]
  },
  {
   "cell_type": "code",
   "execution_count": null,
   "metadata": {},
   "outputs": [],
   "source": []
  }
 ],
 "metadata": {
  "kernelspec": {
   "display_name": "Python 3",
   "language": "python",
   "name": "python3"
  },
  "language_info": {
   "codemirror_mode": {
    "name": "ipython",
    "version": 3
   },
   "file_extension": ".py",
   "mimetype": "text/x-python",
   "name": "python",
   "nbconvert_exporter": "python",
   "pygments_lexer": "ipython3",
   "version": "3.8.5"
  }
 },
 "nbformat": 4,
 "nbformat_minor": 4
}
